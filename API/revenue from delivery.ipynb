{
 "cells": [
  {
   "cell_type": "code",
   "execution_count": null,
   "metadata": {},
   "outputs": [],
   "source": [
    "from datetime import datetime, timedelta\n",
    "import json\n",
    "from pathlib import Path\n",
    "import pytz\n",
    "import requests\n",
    "import time\n",
    "import pandas as pd\n",
    "\n",
    "organizationId = 'XXXXXXXXXXXXXXXXXXXXXXX'\n",
    "deliveryStatus1 = 'DELIVERED'\n",
    "deliveryStatus2 = 'CLOSED'\n",
    "request_timeout = '00:05:00'\n",
    "df_second_year = pd.DataFrame()\n",
    "df_first_year = pd.DataFrame()\n",
    "\n",
    "user_id = 'XXXXXXXXXXXXX'\n",
    "user_secret = 'XXXXXXXXXXXXXXXX'\n",
    "url = f'https://iiko.biz:9900/api/0/auth/access_token?user_id={user_id}&user_secret={user_secret}'\n",
    "access_token = requests.get(url).text.strip('\"')\n",
    "\n",
    "dateFrom = datetime(2022, 5, 16).strftime('%Y-%m-%d')\n",
    "dateTo = datetime(2022, 5, 22).strftime('%Y-%m-%d')\n",
    "\n",
    "#dateFrom = datetime(2022, 3, 1).strftime('%Y-%m-%d')\n",
    "#dateTo = datetime(2022, 3, 31).strftime('%Y-%m-%d')\n",
    "\n",
    "url = f'https://iiko.biz:9900/api/0/orders/deliveryOrders?access_token={access_token}&organization={organizationId}&dateFrom={dateFrom}&dateTo={dateTo}&deliveryStatus={deliveryStatus1}&deliveryStatus={deliveryStatus2}&request_timeout={request_timeout}'\n",
    "json_data = json.loads(requests.get(url).text)\n",
    "\n",
    "df_period = pd.json_normalize(json_data['deliveryOrders'])\n",
    "df_period = df_period[['sum', 'comment']]"
   ]
  },
  {
   "cell_type": "code",
   "execution_count": null,
   "metadata": {},
   "outputs": [],
   "source": [
    "import re\n",
    "import math\n",
    "\n",
    "def find_source(x):\n",
    "    if x.find('DC') == -1:\n",
    "        return 0\n",
    "    else:\n",
    "        return 1\n",
    "\n",
    "def discount_delivery(x):\n",
    "    if x == 0:\n",
    "        return 0\n",
    "    else:\n",
    "        return x - 15\n",
    "\n",
    "def find_discount(x):\n",
    "    if re.findall(\"SALE(\\d*)\", x):\n",
    "        return re.findall(\"SALE(\\d*)\", x)[0]\n",
    "    else:\n",
    "        return 0\n",
    "\n",
    "def find_id(x):\n",
    "    return re.findall(\"DC: ([\\d]*-[\\d]*-[\\d]*)\", x)[0]\n",
    "\n",
    "df_period['DC'] = df_period['comment'].apply(find_source)\n",
    "df_period = df_period[df_period['DC']==1]\n",
    "df_period['discount'] = df_period['comment'].apply(find_discount)\n",
    "df_period['id'] = df_period['comment'].apply(find_id)\n",
    "df_period.sort_values(by='id', inplace=True)\n",
    "df_period['sum'] = df_period['sum'].astype(float)\n",
    "df_period['discount'] = df_period['discount'].astype(int) \n",
    "df_period['afterdiscount'] = df_period['sum'] * ((100 - df_period['discount']) / 100)\n",
    "df_period['afterdiscount'] = df_period['afterdiscount'].apply(lambda x: math.ceil(x))\n",
    "df_period['dicountdelivery'] = df_period['discount'].apply(discount_delivery)\n",
    "df_period['discountamoung'] = df_period['sum'] - df_period['afterdiscount'] \n",
    "df_period['dicountdeliveryrubl'] = df_period['sum'] * (df_period['dicountdelivery'] / 100)\n",
    "\n",
    "print('Приход после промокодов:', df_period['afterdiscount'].sum())\n",
    "print(\"Комиссия 15%:\",  round(df_period['afterdiscount'].sum()*0.15))\n",
    "print('Сумма возврата промокодов:', df_period['dicountdeliveryrubl'].sum())\n",
    "print('Итого мы получим:', round(df_period['afterdiscount'].sum()*0.85 + df_period['dicountdeliveryrubl'].sum()))"
   ]
  }
 ],
 "metadata": {
  "interpreter": {
   "hash": "a077222d77dfe082b8f1dd562ad70e458ac2ab76993a0b248ab0476e32e9e8dd"
  },
  "kernelspec": {
   "display_name": "Python 3.8.3 ('base')",
   "language": "python",
   "name": "python3"
  },
  "language_info": {
   "codemirror_mode": {
    "name": "ipython",
    "version": 3
   },
   "file_extension": ".py",
   "mimetype": "text/x-python",
   "name": "python",
   "nbconvert_exporter": "python",
   "pygments_lexer": "ipython3",
   "version": "3.8.3"
  },
  "orig_nbformat": 4
 },
 "nbformat": 4,
 "nbformat_minor": 2
}
