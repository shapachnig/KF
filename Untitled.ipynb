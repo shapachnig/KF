{
 "cells": [
  {
   "cell_type": "code",
   "execution_count": null,
   "id": "0384561b-796f-48e7-86a2-fae49c084364",
   "metadata": {
    "collapsed": false,
    "gradient": {
     "editing": false,
     "execution_count": 2,
     "id": "0384561b-796f-48e7-86a2-fae49c084364",
     "kernelId": "648f11d3-a708-499c-8e79-03cac0c46317",
     "source_hidden": false
    }
   },
   "outputs": [
    {
     "name": "stdout",
     "output_type": "stream",
     "text": [
      "2\n"
     ]
    }
   ],
   "source": [
    "a=1+1\r\n",
    "print(a)"
   ]
  },
  {
   "cell_type": "code",
   "execution_count": null,
   "id": "829a1c57-3cfd-413a-82fa-c903c4662496",
   "metadata": {
    "collapsed": false,
    "gradient": {
     "editing": false,
     "execution_count": 3,
     "id": "829a1c57-3cfd-413a-82fa-c903c4662496",
     "kernelId": "648f11d3-a708-499c-8e79-03cac0c46317",
     "source_hidden": false
    }
   },
   "outputs": [],
   "source": [
    "b=1+2\r\n",
    "b=1+2\r\n",
    "b=1+2\r\n",
    "print(b)"
   ]
  }
 ],
 "metadata": {},
 "nbformat": 4,
 "nbformat_minor": 5
}
