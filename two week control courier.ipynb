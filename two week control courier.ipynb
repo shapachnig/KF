{
 "cells": [
  {
   "cell_type": "code",
   "execution_count": null,
   "metadata": {},
   "outputs": [],
   "source": [
    "import pandas as pd\n",
    "import datetime\n",
    "\n",
    "df = pd.read_excel('Отчет_доставки_по_Курьерам_14_06_2022_16_06_22.xlsx')\n",
    "df = df[(df['Тип заказа']!='На время самовывоз') & (df['Тип заказа']!='Доставка самовывоз') & (df['Тип заказа']!='Самовывоз')]\n",
    "\n",
    "for i in df['Курьер'].unique():\n",
    "    print('Курьер: ', i)\n",
    "    df_courier = df[df['Курьер'] == i]\n",
    "    orders = df_courier.shape[0]\n",
    "    print('Отвезенных заказов всего: ', orders)\n",
    "    dovozi = df_courier[(df_courier['Сумма со скидкой, р.'] < 200) & (df_courier['Сумма со скидкой, р.'] > 0)]\n",
    "    dovozi_amount = 0    \n",
    "\n",
    "    for z in range(dovozi.shape[0]):\n",
    "        if df_courier[(df_courier['Адрес'] == dovozi.iloc[z]['Адрес']) \\\n",
    "        & (df_courier['Фактическое время доставки'] <= (dovozi.iloc[z]['Фактическое время доставки']) + datetime.timedelta(minutes=3)) \\\n",
    "        & (df_courier['Фактическое время доставки'] >= (dovozi.iloc[z]['Фактическое время доставки']) - datetime.timedelta(minutes=3))].shape[0] > 1:\n",
    "            df_courier = df_courier[df_courier['Номер чека']!= dovozi.iloc[z]['Номер чека']]\n",
    "            dovozi_amount = dovozi_amount + 1\n",
    "    \n",
    "    print('Количество довозов без оплаты: ', dovozi_amount)\n",
    "    orders_next = df_courier.shape[0]\n",
    "    print('Отвезенных заказов без довозов: ', orders_next)\n",
    "    \n",
    "    arr = []\n",
    "    for j in range(orders_next):\n",
    "        reis = df_courier[(df_courier['Время отправки доставки'] < (df_courier.iloc[j]['Время отправки доставки'] + datetime.timedelta(minutes=20))) \\\n",
    "        & (df_courier['Время отправки доставки'] > (df_courier.iloc[j]['Время отправки доставки'] - datetime.timedelta(minutes=20)))].shape[0]\n",
    "        arr = arr + [reis]  \n",
    "    \n",
    "    dict_ = {}\n",
    "    for q in set(arr):\n",
    "        dict_[q] = arr.count(q)/q \n",
    "    dict_ = dict(sorted(dict_.items()))\n",
    "    print(dict_)\n",
    "\n",
    "    print('Среднее количество заказов в рейсе: ',  orders_next / sum(dict_.values()))"
   ]
  }
 ],
 "metadata": {
  "kernelspec": {
   "display_name": "Python 3.8.3 ('base')",
   "language": "python",
   "name": "python3"
  },
  "language_info": {
   "codemirror_mode": {
    "name": "ipython",
    "version": 3
   },
   "file_extension": ".py",
   "mimetype": "text/x-python",
   "name": "python",
   "nbconvert_exporter": "python",
   "pygments_lexer": "ipython3",
   "version": "3.8.3"
  },
  "vscode": {
   "interpreter": {
    "hash": "a077222d77dfe082b8f1dd562ad70e458ac2ab76993a0b248ab0476e32e9e8dd"
   }
  }
 },
 "nbformat": 4,
 "nbformat_minor": 4
}
